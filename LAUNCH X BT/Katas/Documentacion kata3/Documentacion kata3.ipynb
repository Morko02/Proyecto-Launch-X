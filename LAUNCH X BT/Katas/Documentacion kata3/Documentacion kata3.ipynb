{
 "cells": [
  {
   "cell_type": "markdown",
   "metadata": {},
   "source": [
    "### Kata 03"
   ]
  },
  {
   "cell_type": "markdown",
   "metadata": {},
   "source": [
    "## Escribir declaraciones \"if\",\"else\" y \"elif\"."
   ]
  },
  {
   "cell_type": "markdown",
   "metadata": {},
   "source": [
    "A)\n",
    "\n",
    " Añadir el código necesario para crear una variable que guarde la velocidad del asteroide.\n",
    "\n",
    " Escribe una expresión de prueba para calcular si necesita una advertencia.\n",
    " \n",
    " Agregue las instrucciones que se ejecutarán si la expresión de prueba es true o false."
   ]
  },
  {
   "cell_type": "code",
   "execution_count": 2,
   "metadata": {},
   "outputs": [
    {
     "name": "stdout",
     "output_type": "stream",
     "text": [
      "Ten un buen día, hoy las estrellas se ven increíbles!\n"
     ]
    }
   ],
   "source": [
    "# intrucción(es) a ejecutar\n",
    "asteroide = 40\n",
    "velocidad = 25\n",
    "if asteroide >=velocidad:\n",
    "    print ( \"Alerta de meteoro, contacta a la autoridad mas cercana para mas informacion!, y tenga un exelente dia.\")  \n",
    "elif velocidad >=asteroide:\n",
    "    print( \"Ten un buen día, hoy las estrellas se ven increíbles!\")\n"
   ]
  },
  {
   "cell_type": "markdown",
   "metadata": {},
   "source": [
    "B)"
   ]
  },
  {
   "cell_type": "markdown",
   "metadata": {},
   "source": [
    " Agrega el código para crear una variable para un asteroide que viaja a 19 km/s\n",
    "\n",
    " Escribe varias expresiones de prueba para determinar si puedes ver el rayo de luz desde la tierra\n",
    " \n",
    " Agrega las instrucciones que se ejecutarán si las expresiones de prueba son True o False"
   ]
  },
  {
   "cell_type": "code",
   "execution_count": 21,
   "metadata": {},
   "outputs": [
    {
     "name": "stdout",
     "output_type": "stream",
     "text": [
      "Alerta de metioro, contacta a la autoridad mas cercana para mas informacion!, y tenga un exelente dia.\n",
      "Segunda alerta, tienes un 50% de probaviliadad de ver el destello del metioro!, por que no hechas una vistaso?\n"
     ]
    }
   ],
   "source": [
    "# intrucción(es) a ejecutar\n",
    "asteroide = 40\n",
    "velocidad = 25\n",
    "destello = 20\n",
    "if asteroide >=velocidad:\n",
    "    print ( \"Alerta de meteoro, contacta a la autoridad mas cercana para mas informacion!, y tenga un exelente dia.\")  \n",
    "elif velocidad >=asteroide:\n",
    "    print( \"Ten un buen día, hoy las estrellas se ven increíbles!\")\n",
    "if asteroide > destello:\n",
    "    print(\"Segunda alerta, tienes un 50% de probabilidad de ver el destello del meteoro!, por que no hechas un vistazo?\")\n",
    "if destello >=asteroide:\n",
    "    print(\"Segunda alerta, tienes un 50% de probabilidad de ver el destello del meteoro!, por que no hechas un vistazo?\")"
   ]
  },
  {
   "cell_type": "markdown",
   "metadata": {},
   "source": [
    "### Uso de operadores and y or."
   ]
  },
  {
   "cell_type": "markdown",
   "metadata": {},
   "source": [
    "Agrega el código para crear nuevas variables para la velocidad y el tamaño del asteroide\n",
    "\n",
    "Para probar el código, prueba con varias velocidades y tamaños\n",
    "\n",
    "Escribe varias expresiones de prueba o combinaciones de expresiones de prueba para determinar qué mensaje se debe enviar a Tierra."
   ]
  },
  {
   "cell_type": "code",
   "execution_count": 37,
   "metadata": {},
   "outputs": [
    {
     "name": "stdout",
     "output_type": "stream",
     "text": [
      "Alerta de metioro, contacta a la autoridad mas cercana para mas informacion!, y tenga un exelente dia.\n",
      "Segunda alerta, tienes un 50% de probaviliadad de ver el destello del metioro!, por que no hechas una vistaso?\n",
      "sigue buscando en las estrellas algo interesante.\n"
     ]
    }
   ],
   "source": [
    "# intrucción(es) a ejecutar\n",
    "asteroide = 40\n",
    "velocidad = 20\n",
    "destello = 20\n",
    "if asteroide >=velocidad:\n",
    "    print ( \"Alerta de metioro, contacta a la autoridad mas cercana para mas informacion!, y tenga un exelente dia.\")  \n",
    "elif velocidad >=asteroide:\n",
    "    print( \"Ten un buen día, hoy las estrellas se ven increíbles!\")\n",
    "if asteroide > destello:\n",
    "    print(\"Segunda alerta, tienes un 50% de probaviliadad de ver el destello del metioro!, por que no hechas un vistaso?\")\n",
    "if destello >=asteroide:\n",
    "    print(\"Segunda alerta, tienes un 50% de probaviliadad de ver el destello del metioro!, por que no hechas un vistaso?\")\n",
    "V_A = 16\n",
    "T_A = 19\n",
    "if V_A > 25 and T_A > 25:\n",
    "    print('¡Alerta, Posible colicion de basura espacial y, o asteroide!, tomar las precauciones correspondientes!')\n",
    "elif V_A >= 20:\n",
    "    print('Hoy tienes una gran posibilidad de ver algo increhible!')\n",
    "elif T_A < 25:\n",
    "    print('sigue buscando en las estrellas algo interesante.')\n",
    "else\n",
    "    print(\"No se optuvieron datos contundentes objetos o muy grandes o muy lentos para una lectura\")"
   ]
  }
 ],
 "metadata": {
  "interpreter": {
   "hash": "adc98fabdeb6f95989077f9fa7a6c31e546179b43222bc258e0470afc980189f"
  },
  "kernelspec": {
   "display_name": "Python 3.10.2 64-bit",
   "language": "python",
   "name": "python3"
  },
  "language_info": {
   "codemirror_mode": {
    "name": "ipython",
    "version": 3
   },
   "file_extension": ".py",
   "mimetype": "text/x-python",
   "name": "python",
   "nbconvert_exporter": "python",
   "pygments_lexer": "ipython3",
   "version": "3.10.2"
  },
  "orig_nbformat": 4
 },
 "nbformat": 4,
 "nbformat_minor": 2
}
